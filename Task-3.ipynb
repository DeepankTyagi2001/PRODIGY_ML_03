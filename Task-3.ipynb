{
 "cells": [
  {
   "cell_type": "markdown",
   "metadata": {},
   "source": [
    "# Prodigy InfoTech\n",
    "## Machine Learning Internship Task\n",
    "\n",
    "### Task-3: Implement a Support Vector Machine (SVM) to classify the images of dogs and cats from the kaggle dataset\n",
    "### by: Deepank Tyagi"
   ]
  },
  {
   "cell_type": "raw",
   "metadata": {},
   "source": [
    "dataset used- \"https://www.kaggle.com/datasets/chetankv/dogs-cats-images/\""
   ]
  },
  {
   "cell_type": "markdown",
   "metadata": {},
   "source": [
    "# 1. Importing Libraries"
   ]
  },
  {
   "cell_type": "code",
   "execution_count": 41,
   "metadata": {
    "_cell_guid": "b1076dfc-b9ad-4769-8c92-a6c4dae69d19",
    "_uuid": "8f2839f25d086af736a60e9eeb907d3b93b6e0e5",
    "execution": {
     "iopub.execute_input": "2023-10-25T03:42:29.203663Z",
     "iopub.status.busy": "2023-10-25T03:42:29.203251Z",
     "iopub.status.idle": "2023-10-25T03:42:29.211497Z",
     "shell.execute_reply": "2023-10-25T03:42:29.210335Z",
     "shell.execute_reply.started": "2023-10-25T03:42:29.203629Z"
    }
   },
   "outputs": [],
   "source": [
    "import numpy as np # linear algebra\n",
    "import pandas as pd # data processing, CSV file I/O (e.g. pd.read_csv)\n",
    "\n",
    "from skimage.transform import resize\n",
    "from skimage.io import imread\n",
    "\n",
    "import matplotlib.pyplot as plt\n",
    "from sklearn import svm\n",
    "from sklearn.model_selection import GridSearchCV\n",
    "from sklearn.model_selection import train_test_split\n",
    "from sklearn.metrics import accuracy_score \n",
    "from sklearn.metrics import classification_report\n",
    "\n",
    "\n",
    "# Input data files are available in the read-only \"../input/\" directory\n",
    "# For example, running this (by clicking run or pressing Shift+Enter) will list all files under the input directory\n",
    "\n",
    "import os\n",
    "# for dirname, _, filenames in os.walk('/kaggle/input'):\n",
    "#     for filename in filenames:\n",
    "#         print(os.path.join(dirname, filename))\n",
    "\n",
    "# /kaggle/input/dogs-cats-images/dataset/test_set/dogs/dog.4329.jpg  -- This is an instance of the image present inside the input dataset\n",
    "\n",
    "# You can write up to 20GB to the current directory (/kaggle/working/) that gets preserved as output when you create a version using \"Save & Run All\" \n",
    "# You can also write temporary files to /kaggle/temp/, but they won't be saved outside of the current session"
   ]
  },
  {
   "cell_type": "markdown",
   "metadata": {},
   "source": [
    "# 2. Data Transformation from .jpg format to a Numpy array of size 50 x 50 x 3 "
   ]
  },
  {
   "cell_type": "raw",
   "metadata": {},
   "source": [
    "The below code first reads the images one by one and converts into a 50 x 50 pixel image (the 3 represents the RGB value for each pixel). \n",
    "It is then flattened and appended to the dataset. The target categories (Cats,Dogs) are represented by 0,1 respectively."
   ]
  },
  {
   "cell_type": "code",
   "execution_count": 43,
   "metadata": {
    "execution": {
     "iopub.execute_input": "2023-10-25T03:43:36.302922Z",
     "iopub.status.busy": "2023-10-25T03:43:36.302122Z",
     "iopub.status.idle": "2023-10-25T03:46:41.053000Z",
     "shell.execute_reply": "2023-10-25T03:46:41.051735Z",
     "shell.execute_reply.started": "2023-10-25T03:43:36.302885Z"
    }
   },
   "outputs": [
    {
     "name": "stdout",
     "output_type": "stream",
     "text": [
      "loading... category : cats\n",
      "loaded category:cats successfully\n",
      "loading... category : dogs\n",
      "loaded category:dogs successfully\n"
     ]
    }
   ],
   "source": [
    "Categories={\"cats\":0,\"dogs\":1}\n",
    "flat_data_arr=[] #input array \n",
    "target_arr=[] #output array \n",
    "datadir='/kaggle/input/dogs-cats-images/dataset/training_set'\n",
    "#path which contains all the categories of images \n",
    "for i in Categories.keys(): \n",
    "    print(f'loading... category : {i}') \n",
    "    path=os.path.join(datadir,i) \n",
    "    for img in os.listdir(path): \n",
    "        img_array=imread(os.path.join(path,img)) \n",
    "        img_resized=resize(img_array,(50,50,3)) \n",
    "        flat_data_arr.append(img_resized.flatten()) \n",
    "        target_arr.append(Categories[i]) \n",
    "    print(f'loaded category:{i} successfully') \n",
    "flat_data=np.array(flat_data_arr) \n",
    "target=np.array(target_arr)\n"
   ]
  },
  {
   "cell_type": "code",
   "execution_count": 44,
   "metadata": {
    "execution": {
     "iopub.execute_input": "2023-10-25T03:46:47.179831Z",
     "iopub.status.busy": "2023-10-25T03:46:47.179411Z",
     "iopub.status.idle": "2023-10-25T03:46:47.187180Z",
     "shell.execute_reply": "2023-10-25T03:46:47.185870Z",
     "shell.execute_reply.started": "2023-10-25T03:46:47.179783Z"
    }
   },
   "outputs": [
    {
     "data": {
      "text/plain": [
       "array([0, 0, 0, ..., 1, 1, 1])"
      ]
     },
     "execution_count": 44,
     "metadata": {},
     "output_type": "execute_result"
    }
   ],
   "source": [
    "target"
   ]
  },
  {
   "cell_type": "code",
   "execution_count": 45,
   "metadata": {
    "execution": {
     "iopub.execute_input": "2023-10-25T03:46:51.491357Z",
     "iopub.status.busy": "2023-10-25T03:46:51.490916Z",
     "iopub.status.idle": "2023-10-25T03:46:51.508655Z",
     "shell.execute_reply": "2023-10-25T03:46:51.507257Z",
     "shell.execute_reply.started": "2023-10-25T03:46:51.491308Z"
    }
   },
   "outputs": [
    {
     "data": {
      "text/plain": [
       "(8000, 7501)"
      ]
     },
     "execution_count": 45,
     "metadata": {},
     "output_type": "execute_result"
    }
   ],
   "source": [
    "#dataframe \n",
    "df=pd.DataFrame(flat_data)  \n",
    "df['Target']=target \n",
    "df.shape"
   ]
  },
  {
   "cell_type": "code",
   "execution_count": 46,
   "metadata": {
    "execution": {
     "iopub.execute_input": "2023-10-25T03:46:55.564307Z",
     "iopub.status.busy": "2023-10-25T03:46:55.563333Z",
     "iopub.status.idle": "2023-10-25T03:46:55.592596Z",
     "shell.execute_reply": "2023-10-25T03:46:55.591278Z",
     "shell.execute_reply.started": "2023-10-25T03:46:55.564270Z"
    }
   },
   "outputs": [
    {
     "data": {
      "text/html": [
       "<div>\n",
       "<style scoped>\n",
       "    .dataframe tbody tr th:only-of-type {\n",
       "        vertical-align: middle;\n",
       "    }\n",
       "\n",
       "    .dataframe tbody tr th {\n",
       "        vertical-align: top;\n",
       "    }\n",
       "\n",
       "    .dataframe thead th {\n",
       "        text-align: right;\n",
       "    }\n",
       "</style>\n",
       "<table border=\"1\" class=\"dataframe\">\n",
       "  <thead>\n",
       "    <tr style=\"text-align: right;\">\n",
       "      <th></th>\n",
       "      <th>0</th>\n",
       "      <th>1</th>\n",
       "      <th>2</th>\n",
       "      <th>3</th>\n",
       "      <th>4</th>\n",
       "      <th>5</th>\n",
       "      <th>6</th>\n",
       "      <th>7</th>\n",
       "      <th>8</th>\n",
       "      <th>9</th>\n",
       "      <th>...</th>\n",
       "      <th>7491</th>\n",
       "      <th>7492</th>\n",
       "      <th>7493</th>\n",
       "      <th>7494</th>\n",
       "      <th>7495</th>\n",
       "      <th>7496</th>\n",
       "      <th>7497</th>\n",
       "      <th>7498</th>\n",
       "      <th>7499</th>\n",
       "      <th>Target</th>\n",
       "    </tr>\n",
       "  </thead>\n",
       "  <tbody>\n",
       "    <tr>\n",
       "      <th>0</th>\n",
       "      <td>0.893574</td>\n",
       "      <td>0.795623</td>\n",
       "      <td>0.466240</td>\n",
       "      <td>0.897426</td>\n",
       "      <td>0.804239</td>\n",
       "      <td>0.476445</td>\n",
       "      <td>0.899916</td>\n",
       "      <td>0.813369</td>\n",
       "      <td>0.487788</td>\n",
       "      <td>0.908732</td>\n",
       "      <td>...</td>\n",
       "      <td>0.965395</td>\n",
       "      <td>0.835128</td>\n",
       "      <td>0.468709</td>\n",
       "      <td>0.938459</td>\n",
       "      <td>0.815807</td>\n",
       "      <td>0.446199</td>\n",
       "      <td>0.908224</td>\n",
       "      <td>0.797824</td>\n",
       "      <td>0.423863</td>\n",
       "      <td>0</td>\n",
       "    </tr>\n",
       "    <tr>\n",
       "      <th>1</th>\n",
       "      <td>0.829570</td>\n",
       "      <td>0.703083</td>\n",
       "      <td>0.683669</td>\n",
       "      <td>0.861177</td>\n",
       "      <td>0.798782</td>\n",
       "      <td>0.792381</td>\n",
       "      <td>0.814652</td>\n",
       "      <td>0.710885</td>\n",
       "      <td>0.691740</td>\n",
       "      <td>0.861401</td>\n",
       "      <td>...</td>\n",
       "      <td>0.130778</td>\n",
       "      <td>0.077712</td>\n",
       "      <td>0.051136</td>\n",
       "      <td>0.110141</td>\n",
       "      <td>0.063025</td>\n",
       "      <td>0.045822</td>\n",
       "      <td>0.073350</td>\n",
       "      <td>0.051951</td>\n",
       "      <td>0.040568</td>\n",
       "      <td>0</td>\n",
       "    </tr>\n",
       "    <tr>\n",
       "      <th>2</th>\n",
       "      <td>0.016420</td>\n",
       "      <td>0.016420</td>\n",
       "      <td>0.024263</td>\n",
       "      <td>0.022411</td>\n",
       "      <td>0.022411</td>\n",
       "      <td>0.030251</td>\n",
       "      <td>0.010398</td>\n",
       "      <td>0.010398</td>\n",
       "      <td>0.017773</td>\n",
       "      <td>0.004878</td>\n",
       "      <td>...</td>\n",
       "      <td>0.441801</td>\n",
       "      <td>0.287559</td>\n",
       "      <td>0.140733</td>\n",
       "      <td>0.406142</td>\n",
       "      <td>0.256772</td>\n",
       "      <td>0.118479</td>\n",
       "      <td>0.417788</td>\n",
       "      <td>0.256849</td>\n",
       "      <td>0.111534</td>\n",
       "      <td>0</td>\n",
       "    </tr>\n",
       "    <tr>\n",
       "      <th>3</th>\n",
       "      <td>0.151232</td>\n",
       "      <td>0.167590</td>\n",
       "      <td>0.167623</td>\n",
       "      <td>0.174395</td>\n",
       "      <td>0.187616</td>\n",
       "      <td>0.204817</td>\n",
       "      <td>0.149290</td>\n",
       "      <td>0.171805</td>\n",
       "      <td>0.167438</td>\n",
       "      <td>0.155998</td>\n",
       "      <td>...</td>\n",
       "      <td>0.280683</td>\n",
       "      <td>0.212633</td>\n",
       "      <td>0.190408</td>\n",
       "      <td>0.276556</td>\n",
       "      <td>0.208559</td>\n",
       "      <td>0.190989</td>\n",
       "      <td>0.200887</td>\n",
       "      <td>0.148310</td>\n",
       "      <td>0.124248</td>\n",
       "      <td>0</td>\n",
       "    </tr>\n",
       "    <tr>\n",
       "      <th>4</th>\n",
       "      <td>0.205290</td>\n",
       "      <td>0.205290</td>\n",
       "      <td>0.205290</td>\n",
       "      <td>0.208228</td>\n",
       "      <td>0.208228</td>\n",
       "      <td>0.208228</td>\n",
       "      <td>0.215489</td>\n",
       "      <td>0.215489</td>\n",
       "      <td>0.215489</td>\n",
       "      <td>0.216669</td>\n",
       "      <td>...</td>\n",
       "      <td>0.001477</td>\n",
       "      <td>0.109318</td>\n",
       "      <td>0.121062</td>\n",
       "      <td>0.011695</td>\n",
       "      <td>0.121017</td>\n",
       "      <td>0.131868</td>\n",
       "      <td>0.013829</td>\n",
       "      <td>0.121297</td>\n",
       "      <td>0.132510</td>\n",
       "      <td>0</td>\n",
       "    </tr>\n",
       "  </tbody>\n",
       "</table>\n",
       "<p>5 rows × 7501 columns</p>\n",
       "</div>"
      ],
      "text/plain": [
       "          0         1         2         3         4         5         6  \\\n",
       "0  0.893574  0.795623  0.466240  0.897426  0.804239  0.476445  0.899916   \n",
       "1  0.829570  0.703083  0.683669  0.861177  0.798782  0.792381  0.814652   \n",
       "2  0.016420  0.016420  0.024263  0.022411  0.022411  0.030251  0.010398   \n",
       "3  0.151232  0.167590  0.167623  0.174395  0.187616  0.204817  0.149290   \n",
       "4  0.205290  0.205290  0.205290  0.208228  0.208228  0.208228  0.215489   \n",
       "\n",
       "          7         8         9  ...      7491      7492      7493      7494  \\\n",
       "0  0.813369  0.487788  0.908732  ...  0.965395  0.835128  0.468709  0.938459   \n",
       "1  0.710885  0.691740  0.861401  ...  0.130778  0.077712  0.051136  0.110141   \n",
       "2  0.010398  0.017773  0.004878  ...  0.441801  0.287559  0.140733  0.406142   \n",
       "3  0.171805  0.167438  0.155998  ...  0.280683  0.212633  0.190408  0.276556   \n",
       "4  0.215489  0.215489  0.216669  ...  0.001477  0.109318  0.121062  0.011695   \n",
       "\n",
       "       7495      7496      7497      7498      7499  Target  \n",
       "0  0.815807  0.446199  0.908224  0.797824  0.423863       0  \n",
       "1  0.063025  0.045822  0.073350  0.051951  0.040568       0  \n",
       "2  0.256772  0.118479  0.417788  0.256849  0.111534       0  \n",
       "3  0.208559  0.190989  0.200887  0.148310  0.124248       0  \n",
       "4  0.121017  0.131868  0.013829  0.121297  0.132510       0  \n",
       "\n",
       "[5 rows x 7501 columns]"
      ]
     },
     "execution_count": 46,
     "metadata": {},
     "output_type": "execute_result"
    }
   ],
   "source": [
    "df.head()"
   ]
  },
  {
   "cell_type": "markdown",
   "metadata": {},
   "source": [
    "# 3. Splitting Data into Independent and Dependent Variables"
   ]
  },
  {
   "cell_type": "code",
   "execution_count": 47,
   "metadata": {
    "execution": {
     "iopub.execute_input": "2023-10-25T03:47:19.572265Z",
     "iopub.status.busy": "2023-10-25T03:47:19.571200Z",
     "iopub.status.idle": "2023-10-25T03:47:19.745917Z",
     "shell.execute_reply": "2023-10-25T03:47:19.744496Z",
     "shell.execute_reply.started": "2023-10-25T03:47:19.572217Z"
    }
   },
   "outputs": [],
   "source": [
    "#input data  \n",
    "x=df.iloc[:,:-1]  \n",
    "#output data \n",
    "y=df.iloc[:,-1]"
   ]
  },
  {
   "cell_type": "markdown",
   "metadata": {},
   "source": [
    "# 4. Train Test Split"
   ]
  },
  {
   "cell_type": "code",
   "execution_count": 48,
   "metadata": {
    "execution": {
     "iopub.execute_input": "2023-10-25T03:48:16.124219Z",
     "iopub.status.busy": "2023-10-25T03:48:16.123431Z",
     "iopub.status.idle": "2023-10-25T03:48:16.283957Z",
     "shell.execute_reply": "2023-10-25T03:48:16.283032Z",
     "shell.execute_reply.started": "2023-10-25T03:48:16.124181Z"
    }
   },
   "outputs": [],
   "source": [
    "# Splitting the data into training and testing sets \n",
    "x_train,x_test,y_train,y_test=train_test_split(x,y,test_size=0.20, \n",
    "                                               random_state=45, \n",
    "                                               stratify=y) "
   ]
  },
  {
   "cell_type": "markdown",
   "metadata": {},
   "source": [
    "# 5. Model Training"
   ]
  },
  {
   "cell_type": "code",
   "execution_count": 49,
   "metadata": {
    "execution": {
     "iopub.execute_input": "2023-10-25T03:48:20.721535Z",
     "iopub.status.busy": "2023-10-25T03:48:20.721190Z",
     "iopub.status.idle": "2023-10-25T03:48:20.727116Z",
     "shell.execute_reply": "2023-10-25T03:48:20.725896Z",
     "shell.execute_reply.started": "2023-10-25T03:48:20.721511Z"
    }
   },
   "outputs": [],
   "source": [
    "# Creating a support vector classifier \n",
    "model=svm.SVC(probability=True) \n"
   ]
  },
  {
   "cell_type": "code",
   "execution_count": 50,
   "metadata": {
    "execution": {
     "iopub.execute_input": "2023-10-25T03:48:24.026211Z",
     "iopub.status.busy": "2023-10-25T03:48:24.025781Z",
     "iopub.status.idle": "2023-10-25T04:07:50.478555Z",
     "shell.execute_reply": "2023-10-25T04:07:50.477584Z",
     "shell.execute_reply.started": "2023-10-25T03:48:24.026177Z"
    }
   },
   "outputs": [
    {
     "data": {
      "text/html": [
       "<style>#sk-container-id-2 {color: black;background-color: white;}#sk-container-id-2 pre{padding: 0;}#sk-container-id-2 div.sk-toggleable {background-color: white;}#sk-container-id-2 label.sk-toggleable__label {cursor: pointer;display: block;width: 100%;margin-bottom: 0;padding: 0.3em;box-sizing: border-box;text-align: center;}#sk-container-id-2 label.sk-toggleable__label-arrow:before {content: \"▸\";float: left;margin-right: 0.25em;color: #696969;}#sk-container-id-2 label.sk-toggleable__label-arrow:hover:before {color: black;}#sk-container-id-2 div.sk-estimator:hover label.sk-toggleable__label-arrow:before {color: black;}#sk-container-id-2 div.sk-toggleable__content {max-height: 0;max-width: 0;overflow: hidden;text-align: left;background-color: #f0f8ff;}#sk-container-id-2 div.sk-toggleable__content pre {margin: 0.2em;color: black;border-radius: 0.25em;background-color: #f0f8ff;}#sk-container-id-2 input.sk-toggleable__control:checked~div.sk-toggleable__content {max-height: 200px;max-width: 100%;overflow: auto;}#sk-container-id-2 input.sk-toggleable__control:checked~label.sk-toggleable__label-arrow:before {content: \"▾\";}#sk-container-id-2 div.sk-estimator input.sk-toggleable__control:checked~label.sk-toggleable__label {background-color: #d4ebff;}#sk-container-id-2 div.sk-label input.sk-toggleable__control:checked~label.sk-toggleable__label {background-color: #d4ebff;}#sk-container-id-2 input.sk-hidden--visually {border: 0;clip: rect(1px 1px 1px 1px);clip: rect(1px, 1px, 1px, 1px);height: 1px;margin: -1px;overflow: hidden;padding: 0;position: absolute;width: 1px;}#sk-container-id-2 div.sk-estimator {font-family: monospace;background-color: #f0f8ff;border: 1px dotted black;border-radius: 0.25em;box-sizing: border-box;margin-bottom: 0.5em;}#sk-container-id-2 div.sk-estimator:hover {background-color: #d4ebff;}#sk-container-id-2 div.sk-parallel-item::after {content: \"\";width: 100%;border-bottom: 1px solid gray;flex-grow: 1;}#sk-container-id-2 div.sk-label:hover label.sk-toggleable__label {background-color: #d4ebff;}#sk-container-id-2 div.sk-serial::before {content: \"\";position: absolute;border-left: 1px solid gray;box-sizing: border-box;top: 0;bottom: 0;left: 50%;z-index: 0;}#sk-container-id-2 div.sk-serial {display: flex;flex-direction: column;align-items: center;background-color: white;padding-right: 0.2em;padding-left: 0.2em;position: relative;}#sk-container-id-2 div.sk-item {position: relative;z-index: 1;}#sk-container-id-2 div.sk-parallel {display: flex;align-items: stretch;justify-content: center;background-color: white;position: relative;}#sk-container-id-2 div.sk-item::before, #sk-container-id-2 div.sk-parallel-item::before {content: \"\";position: absolute;border-left: 1px solid gray;box-sizing: border-box;top: 0;bottom: 0;left: 50%;z-index: -1;}#sk-container-id-2 div.sk-parallel-item {display: flex;flex-direction: column;z-index: 1;position: relative;background-color: white;}#sk-container-id-2 div.sk-parallel-item:first-child::after {align-self: flex-end;width: 50%;}#sk-container-id-2 div.sk-parallel-item:last-child::after {align-self: flex-start;width: 50%;}#sk-container-id-2 div.sk-parallel-item:only-child::after {width: 0;}#sk-container-id-2 div.sk-dashed-wrapped {border: 1px dashed gray;margin: 0 0.4em 0.5em 0.4em;box-sizing: border-box;padding-bottom: 0.4em;background-color: white;}#sk-container-id-2 div.sk-label label {font-family: monospace;font-weight: bold;display: inline-block;line-height: 1.2em;}#sk-container-id-2 div.sk-label-container {text-align: center;}#sk-container-id-2 div.sk-container {/* jupyter's `normalize.less` sets `[hidden] { display: none; }` but bootstrap.min.css set `[hidden] { display: none !important; }` so we also need the `!important` here to be able to override the default hidden behavior on the sphinx rendered scikit-learn.org. See: https://github.com/scikit-learn/scikit-learn/issues/21755 */display: inline-block !important;position: relative;}#sk-container-id-2 div.sk-text-repr-fallback {display: none;}</style><div id=\"sk-container-id-2\" class=\"sk-top-container\"><div class=\"sk-text-repr-fallback\"><pre>SVC(probability=True)</pre><b>In a Jupyter environment, please rerun this cell to show the HTML representation or trust the notebook. <br />On GitHub, the HTML representation is unable to render, please try loading this page with nbviewer.org.</b></div><div class=\"sk-container\" hidden><div class=\"sk-item\"><div class=\"sk-estimator sk-toggleable\"><input class=\"sk-toggleable__control sk-hidden--visually\" id=\"sk-estimator-id-2\" type=\"checkbox\" checked><label for=\"sk-estimator-id-2\" class=\"sk-toggleable__label sk-toggleable__label-arrow\">SVC</label><div class=\"sk-toggleable__content\"><pre>SVC(probability=True)</pre></div></div></div></div></div>"
      ],
      "text/plain": [
       "SVC(probability=True)"
      ]
     },
     "execution_count": 50,
     "metadata": {},
     "output_type": "execute_result"
    }
   ],
   "source": [
    "model.fit(x_train,y_train)       # model training"
   ]
  },
  {
   "cell_type": "code",
   "execution_count": 51,
   "metadata": {
    "execution": {
     "iopub.execute_input": "2023-10-25T04:08:18.845874Z",
     "iopub.status.busy": "2023-10-25T04:08:18.845460Z",
     "iopub.status.idle": "2023-10-25T04:09:42.285889Z",
     "shell.execute_reply": "2023-10-25T04:09:42.284887Z",
     "shell.execute_reply.started": "2023-10-25T04:08:18.845837Z"
    }
   },
   "outputs": [
    {
     "name": "stdout",
     "output_type": "stream",
     "text": [
      "The model is 64.9375% accurate\n"
     ]
    }
   ],
   "source": [
    "# Testing the model using the testing data \n",
    "y_pred = model.predict(x_test) \n",
    "  \n",
    "# Calculating the accuracy of the model \n",
    "accuracy = accuracy_score(y_pred, y_test) \n",
    "  \n",
    "# Print the accuracy of the model \n",
    "print(f\"The model is {accuracy*100}% accurate\")"
   ]
  },
  {
   "cell_type": "code",
   "execution_count": 61,
   "metadata": {
    "execution": {
     "iopub.execute_input": "2023-10-25T04:11:38.499451Z",
     "iopub.status.busy": "2023-10-25T04:11:38.498109Z",
     "iopub.status.idle": "2023-10-25T04:11:38.517721Z",
     "shell.execute_reply": "2023-10-25T04:11:38.516569Z",
     "shell.execute_reply.started": "2023-10-25T04:11:38.499409Z"
    }
   },
   "outputs": [],
   "source": [
    "test_image_read=imread('/kaggle/input/dogs-cats-images/dataset/test_set/dogs/dog.4332.jpg')             # testing the model on an instance taken from the input dataset"
   ]
  },
  {
   "cell_type": "code",
   "execution_count": 62,
   "metadata": {
    "execution": {
     "iopub.execute_input": "2023-10-25T04:11:39.986122Z",
     "iopub.status.busy": "2023-10-25T04:11:39.985122Z",
     "iopub.status.idle": "2023-10-25T04:11:40.025622Z",
     "shell.execute_reply": "2023-10-25T04:11:40.024566Z",
     "shell.execute_reply.started": "2023-10-25T04:11:39.986065Z"
    }
   },
   "outputs": [],
   "source": [
    "test_image_arr=resize(test_image_read,(50,50,3))"
   ]
  },
  {
   "cell_type": "code",
   "execution_count": 63,
   "metadata": {
    "execution": {
     "iopub.execute_input": "2023-10-25T04:11:40.187784Z",
     "iopub.status.busy": "2023-10-25T04:11:40.186815Z",
     "iopub.status.idle": "2023-10-25T04:11:40.192705Z",
     "shell.execute_reply": "2023-10-25T04:11:40.191452Z",
     "shell.execute_reply.started": "2023-10-25T04:11:40.187747Z"
    }
   },
   "outputs": [],
   "source": [
    "flattened_test_image_array=test_image_arr.flatten()\n",
    "flattened_test_image_array=np.array(flattened_test_image_array)"
   ]
  },
  {
   "cell_type": "code",
   "execution_count": 64,
   "metadata": {
    "execution": {
     "iopub.execute_input": "2023-10-25T04:11:41.685689Z",
     "iopub.status.busy": "2023-10-25T04:11:41.685275Z",
     "iopub.status.idle": "2023-10-25T04:11:41.740544Z",
     "shell.execute_reply": "2023-10-25T04:11:41.739449Z",
     "shell.execute_reply.started": "2023-10-25T04:11:41.685658Z"
    }
   },
   "outputs": [
    {
     "name": "stdout",
     "output_type": "stream",
     "text": [
      "1\n"
     ]
    }
   ],
   "source": [
    "print(model.predict(flattened_test_image_array.reshape(1,-1))[0])        # output is 1 means its a dog, which is correct"
   ]
  },
  {
   "cell_type": "markdown",
   "metadata": {},
   "source": [
    "# 6. Model Summary"
   ]
  },
  {
   "cell_type": "code",
   "execution_count": 40,
   "metadata": {
    "execution": {
     "iopub.execute_input": "2023-10-25T03:41:36.632152Z",
     "iopub.status.busy": "2023-10-25T03:41:36.631319Z",
     "iopub.status.idle": "2023-10-25T03:41:36.651936Z",
     "shell.execute_reply": "2023-10-25T03:41:36.650832Z",
     "shell.execute_reply.started": "2023-10-25T03:41:36.632103Z"
    }
   },
   "outputs": [
    {
     "name": "stdout",
     "output_type": "stream",
     "text": [
      "              precision    recall  f1-score   support\n",
      "\n",
      "         cat       0.65      0.65      0.65       800\n",
      "         dog       0.65      0.65      0.65       800\n",
      "\n",
      "    accuracy                           0.65      1600\n",
      "   macro avg       0.65      0.65      0.65      1600\n",
      "weighted avg       0.65      0.65      0.65      1600\n",
      "\n"
     ]
    }
   ],
   "source": [
    "print(classification_report(y_test, y_pred, target_names=['cat', 'dog']))\n"
   ]
  }
 ],
 "metadata": {
  "kernelspec": {
   "display_name": "Python 3 (ipykernel)",
   "language": "python",
   "name": "python3"
  },
  "language_info": {
   "codemirror_mode": {
    "name": "ipython",
    "version": 3
   },
   "file_extension": ".py",
   "mimetype": "text/x-python",
   "name": "python",
   "nbconvert_exporter": "python",
   "pygments_lexer": "ipython3",
   "version": "3.11.4"
  }
 },
 "nbformat": 4,
 "nbformat_minor": 4
}
